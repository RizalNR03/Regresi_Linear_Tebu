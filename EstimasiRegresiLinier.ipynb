{
  "nbformat": 4,
  "nbformat_minor": 0,
  "metadata": {
    "colab": {
      "provenance": []
    },
    "kernelspec": {
      "name": "python3",
      "display_name": "Python 3"
    },
    "language_info": {
      "name": "python"
    }
  },
  "cells": [
    {
      "cell_type": "code",
      "execution_count": 1,
      "metadata": {
        "colab": {
          "base_uri": "https://localhost:8080/"
        },
        "id": "4-PYlCXH8EyX",
        "outputId": "a5a50567-0b9d-46da-df0d-ef00a77ae2ef"
      },
      "outputs": [
        {
          "output_type": "stream",
          "name": "stdout",
          "text": [
            "Requirement already satisfied: numpy in /usr/local/lib/python3.10/dist-packages (1.23.5)\n",
            "Requirement already satisfied: scikit-learn in /usr/local/lib/python3.10/dist-packages (1.2.2)\n",
            "Requirement already satisfied: scipy>=1.3.2 in /usr/local/lib/python3.10/dist-packages (from scikit-learn) (1.11.2)\n",
            "Requirement already satisfied: joblib>=1.1.1 in /usr/local/lib/python3.10/dist-packages (from scikit-learn) (1.3.2)\n",
            "Requirement already satisfied: threadpoolctl>=2.0.0 in /usr/local/lib/python3.10/dist-packages (from scikit-learn) (3.2.0)\n"
          ]
        }
      ],
      "source": [
        "pip install numpy scikit-learn"
      ]
    },
    {
      "cell_type": "code",
      "source": [
        "import numpy as np\n",
        "from sklearn.linear_model import LinearRegression\n",
        "\n",
        "# Data contoh (ubah sesuai dengan data Anda)\n",
        "luas_lahan = np.array([2.0, 2.5, 3.0, 3.5, 4.0, 4.5, 5.0])  # Luas lahan dalam hektar\n",
        "jumlah_pupuk = np.array([10, 15, 20, 25, 30, 35, 40])  # Jumlah pupuk dalam kg/hektar\n",
        "produktivitas = np.array([45, 50, 55, 60, 65, 70, 75])  # Produktivitas dalam ton/hektar"
      ],
      "metadata": {
        "id": "qzlA-e-88KNr"
      },
      "execution_count": 2,
      "outputs": []
    },
    {
      "cell_type": "code",
      "source": [
        "# Menyusun data ke dalam bentuk matriks\n",
        "X = np.column_stack((luas_lahan, jumlah_pupuk))\n",
        "y = produktivitas\n",
        "\n",
        "# Membuat model regresi linear\n",
        "model = LinearRegression()\n",
        "\n",
        "# Melatih model dengan data\n",
        "model.fit(X, y)\n",
        "\n",
        "# Mencetak koefisien regresi dan intersep\n",
        "print(\"Koefisien Regresi:\", model.coef_)\n",
        "print(\"Intersep:\", model.intercept_)"
      ],
      "metadata": {
        "colab": {
          "base_uri": "https://localhost:8080/"
        },
        "id": "-dtlDE1w8Pe4",
        "outputId": "ecd6ce12-07c6-497c-d8a7-8f833713fe2c"
      },
      "execution_count": 3,
      "outputs": [
        {
          "output_type": "stream",
          "name": "stdout",
          "text": [
            "Koefisien Regresi: [0.0990099  0.99009901]\n",
            "Intersep: 34.900990099009896\n"
          ]
        }
      ]
    },
    {
      "cell_type": "code",
      "source": [
        "# Input data baru untuk estimasi\n",
        "luas_lahan_baru = 3.8  # Ubah sesuai dengan data baru\n",
        "jumlah_pupuk_baru = 27  # Ubah sesuai dengan data baru\n",
        "\n",
        "# Menentukan estimasi produktivitas\n",
        "estimasi_produktivitas = model.predict([[luas_lahan_baru, jumlah_pupuk_baru]])\n",
        "\n",
        "print(f\"Estimasi Produktivitas Tanaman Tebu: {estimasi_produktivitas[0]:.2f} ton/hektar\")"
      ],
      "metadata": {
        "colab": {
          "base_uri": "https://localhost:8080/"
        },
        "id": "8Efx7L828VEZ",
        "outputId": "dc99e8a4-a7e2-4c3f-baeb-adfe8fcdcdbf"
      },
      "execution_count": 4,
      "outputs": [
        {
          "output_type": "stream",
          "name": "stdout",
          "text": [
            "Estimasi Produktivitas Tanaman Tebu: 62.01 ton/hektar\n"
          ]
        }
      ]
    }
  ]
}